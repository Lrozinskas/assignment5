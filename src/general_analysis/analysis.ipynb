{
 "cells": [
  {
   "cell_type": "code",
   "execution_count": 1,
   "outputs": [
    {
     "name": "stdout",
     "output_type": "stream",
     "text": [
      "Loaded history data from /home/lrozinskas/CS128/Data_folder/history/watch-history.json\n",
      "Found a total of 9806 videos watched\n"
     ]
    }
   ],
   "source": [
    "import json\n",
    "import os\n",
    "\n",
    "# Specify the file path on your local device\n",
    "file_path = '/home/lrozinskas/CS128/Data_folder/history/watch-history.json'\n",
    "\n",
    "# Check if the file exists\n",
    "if os.path.exists(file_path):\n",
    "    # Read data from the JSON file\n",
    "    with open(file_path, 'r', encoding='UTF8') as file:\n",
    "        history = json.load(file)\n",
    "\n",
    "    print(f'Loaded history data from {file_path}')\n",
    "    print(f'Found a total of {len(history)} videos watched')\n",
    "else:\n",
    "    print(f'The file {file_path} does not exist.')"
   ],
   "metadata": {
    "collapsed": false,
    "ExecuteTime": {
     "end_time": "2023-12-15T01:58:23.470329200Z",
     "start_time": "2023-12-15T01:58:23.370214800Z"
    }
   },
   "id": "fff0321c4b56ee1f"
  },
  {
   "cell_type": "code",
   "execution_count": 2,
   "outputs": [
    {
     "name": "stderr",
     "output_type": "stream",
     "text": [
      "100%|██████████| 9806/9806 [00:00<00:00, 18276.16it/s]"
     ]
    },
    {
     "name": "stdout",
     "output_type": "stream",
     "text": [
      "Parsed 9806 videos\n"
     ]
    },
    {
     "name": "stderr",
     "output_type": "stream",
     "text": [
      "\n"
     ]
    }
   ],
   "source": [
    "from assignment5.videos import Video, VideoByChannel\n",
    "from tqdm import tqdm\n",
    "\n",
    "videos_watched = [Video(video_data) for video_data in tqdm(history)]\n",
    "\n",
    "print(f'Parsed {len(videos_watched)} videos')"
   ],
   "metadata": {
    "collapsed": false,
    "ExecuteTime": {
     "end_time": "2023-12-15T01:58:24.029843800Z",
     "start_time": "2023-12-15T01:58:23.461329200Z"
    }
   },
   "id": "3172d1e13180942b"
  },
  {
   "cell_type": "code",
   "execution_count": 3,
   "outputs": [
    {
     "name": "stdout",
     "output_type": "stream",
     "text": [
      "Between the time you first watched a video and your last view, 1040 days have passed\n",
      "1040 days, 19 hours, 55 minutes and 21 seconds to be exact.\n"
     ]
    }
   ],
   "source": [
    "import math\n",
    "\n",
    "total_time = videos_watched[0].time - videos_watched[-1].time\n",
    "print(f'Between the time you first watched a video and your last view, {total_time.days} days have passed')\n",
    "hours = math.floor(total_time.seconds / 3600)\n",
    "minutes = math.floor((total_time.seconds % 3600) / 60)\n",
    "seconds = (total_time.seconds % 60)\n",
    "print(f'{total_time.days} days, {hours} hours, {minutes:.0f} minutes and {seconds} seconds to be exact.')"
   ],
   "metadata": {
    "collapsed": false,
    "ExecuteTime": {
     "end_time": "2023-12-15T01:58:24.037318900Z",
     "start_time": "2023-12-15T01:58:24.025813700Z"
    }
   },
   "id": "ecd65f65d71bec7c"
  },
  {
   "cell_type": "code",
   "execution_count": 4,
   "outputs": [
    {
     "name": "stdout",
     "output_type": "stream",
     "text": [
      "On average you watched 9.4288 videos per day\n"
     ]
    }
   ],
   "source": [
    "print(f'On average you watched {len(videos_watched) / total_time.days:.4f} videos per day')"
   ],
   "metadata": {
    "collapsed": false,
    "ExecuteTime": {
     "end_time": "2023-12-15T01:58:24.062392900Z",
     "start_time": "2023-12-15T01:58:24.035317800Z"
    }
   },
   "id": "5032f5b0015c88f3"
  },
  {
   "cell_type": "code",
   "execution_count": 5,
   "outputs": [
    {
     "name": "stdout",
     "output_type": "stream",
     "text": [
      "You watched a total of 9070 unique videos\n",
      "Your top 20 most watched videos are:\n",
      "    100 views: Watched a video that has been removed by @Unknown\n",
      "    18 views: Watched https://www.youtube.com/watch?v= by @Unknown\n",
      "    13 views: Watched Vrbo | A Place For Together - Only Your People | 15s | Combo by @Unknown\n",
      "    12 views: Watched Dawn Platinum EZ-Squeeze – No Flip, No Mess by @Unknown\n",
      "    10 views: Watched SwingU - Rangefinder by @Unknown\n",
      "    6 views: Watched F1_MC2338_vidP_2022Highlights2023Intro_th04_30s_en_none by @Unknown\n",
      "    6 views: Watched International Fried Foods Taste Test by @Good Mythical Morning\n",
      "    6 views: Watched International Burger King Taste Test by @Good Mythical Morning\n",
      "    6 views: Watched F1 2020 Full Season Meme Review by @Dacha44\n",
      "    5 views: Watched 01-01-introduction.mp4 by @Stanford Dbclass\n",
      "    5 views: Watched 03 22 Cascade Plat Plus :06 Alt by @Unknown\n",
      "    5 views: Watched CLS_GOF3D545_EN_FZ捏冰淇淋挖煤解冻热力圈-完整-混剪_1080x1920 by @Unknown\n",
      "    5 views: Watched International Taste Tests Marathon by @Good Mythical Morning\n",
      "    5 views: Watched International Sandwich Taste Test by @Good Mythical Morning\n",
      "    5 views: Watched Saved Passwords | There's no place like Chrome by @Unknown\n",
      "    5 views: Watched YouTube NFL Draft ST Presale v1 0 8  BR None US EN 15s MP4 Video by @Unknown\n",
      "    5 views: Watched https://www.youtube.com/watch?v=kAlgWSLZai8 by @Unknown\n",
      "    5 views: Watched Feels, 0:15 by @Unknown\n",
      "    4 views: Watched 06-04-subqueries-in-where.mp4 by @Stanford Dbclass\n",
      "    4 views: Watched F1_MC1802_vidP_BumperRacing_th03_6s_en_none by @Unknown\n"
     ]
    }
   ],
   "source": [
    "from collections import Counter\n",
    "from matplotlib import pyplot as plt\n",
    "\n",
    "video_counter = Counter(videos_watched)\n",
    "print(f'You watched a total of {len(video_counter)} unique videos')\n",
    "print(\"Your top 20 most watched videos are:\")\n",
    "for video, amount in video_counter.most_common(20):\n",
    "    print(f'    {amount} views: {video}')"
   ],
   "metadata": {
    "collapsed": false,
    "ExecuteTime": {
     "end_time": "2023-12-15T01:58:24.428722900Z",
     "start_time": "2023-12-15T01:58:24.050517200Z"
    }
   },
   "id": "6e367cdbc8a6456"
  },
  {
   "cell_type": "code",
   "execution_count": 7,
   "outputs": [
    {
     "name": "stderr",
     "output_type": "stream",
     "text": [
      "100%|██████████| 9806/9806 [00:00<00:00, 17620.36it/s]"
     ]
    },
    {
     "name": "stdout",
     "output_type": "stream",
     "text": [
      "You watched a total of 3529 unique channels\n",
      "Your top 40 most watched channels are:\n",
      "    511 views: Good Mythical Morning\n",
      "    334 views: FORMULA 1\n",
      "    307 views: ESPN\n",
      "    226 views: Dude Perfect\n",
      "    217 views: UNDISPUTED\n",
      "    155 views: Bob Does Sports\n",
      "    150 views: CBS Sports Golazo\n",
      "    138 views: Bhlademyst\n",
      "    113 views: CashNastyReacts\n",
      "    98 views: Unknown\n",
      "    85 views: Shelfy\n",
      "    84 views: Maryke van der Walt\n",
      "    83 views: Good Good\n",
      "    77 views: NBA\n",
      "    77 views: Telford Work\n",
      "    76 views: NBA on ESPN\n",
      "    70 views: Rick Shiels Golf\n",
      "    67 views: AuzioMF\n",
      "    65 views: NickRTFM\n",
      "    62 views: ZwebackHD\n",
      "    59 views: ChizPlays\n",
      "    57 views: Sidemen\n",
      "    53 views: Cody Ko\n",
      "    52 views: ESPN FC\n",
      "    48 views: House of Highlights\n",
      "    47 views: gm__golf\n",
      "    46 views: NepentheZ 2\n",
      "    44 views: Tube Golf News\n",
      "    44 views: McGunski\n",
      "    42 views: Fuzzy\n",
      "    39 views: MLB\n",
      "    39 views: THE RACE\n",
      "    38 views: NepentheZ\n",
      "    38 views: Pitstop\n",
      "    37 views: Jarno Opmeer\n",
      "    36 views: Muselk\n",
      "    36 views: Puzzle guy\n",
      "    35 views: Joe Porter\n",
      "    34 views: AR12Gaming\n",
      "    31 views: Cody & Ko\n"
     ]
    },
    {
     "name": "stderr",
     "output_type": "stream",
     "text": [
      "\n"
     ]
    }
   ],
   "source": [
    "videos_watched_by_channel = [VideoByChannel(video_data) for video_data in tqdm(history)]\n",
    "channel_counter = Counter(videos_watched_by_channel)\n",
    "print(f'You watched a total of {len(channel_counter)} unique channels')\n",
    "print(\"Your top 40 most watched channels are:\")\n",
    "for video, amount in channel_counter.most_common(40):\n",
    "    print(f'    {amount} views: {video.channel_name}')"
   ],
   "metadata": {
    "collapsed": false,
    "ExecuteTime": {
     "end_time": "2023-12-15T01:58:25.029655200Z",
     "start_time": "2023-12-15T01:58:24.428722900Z"
    }
   },
   "id": "1de422c64b2306e"
  },
  {
   "cell_type": "code",
   "execution_count": 8,
   "outputs": [
    {
     "name": "stdout",
     "output_type": "stream",
     "text": [
      "You have watched a total of 830 channels more than once:\n"
     ]
    },
    {
     "data": {
      "text/plain": "<Figure size 640x480 with 1 Axes>",
      "image/png": "[encoded data removed]"
     },
     "metadata": {},
     "output_type": "display_data"
    }
   ],
   "source": [
    "channels_watched_more_than_once = [\n",
    "    (video, amount) for video, amount in channel_counter.most_common()\n",
    "    if amount > 1\n",
    "]\n",
    "\n",
    "print(f'You have watched a total of {len(channels_watched_more_than_once)} channels more than once:')\n",
    "plt.scatter(\n",
    "    range(len(channels_watched_more_than_once)),\n",
    "    [amount for video, amount in channels_watched_more_than_once],\n",
    "    marker=\"x\"\n",
    ")\n",
    "plt.ylabel(\"Times viewed\")\n",
    "plt.show()"
   ],
   "metadata": {
    "collapsed": false,
    "ExecuteTime": {
     "end_time": "2023-12-15T01:58:25.292885Z",
     "start_time": "2023-12-15T01:58:25.029655200Z"
    }
   },
   "id": "864fe0cf481fd527"
  }
 ],
 "metadata": {
  "kernelspec": {
   "display_name": "Python 3",
   "language": "python",
   "name": "python3"
  },
  "language_info": {
   "codemirror_mode": {
    "name": "ipython",
    "version": 2
   },
   "file_extension": ".py",
   "mimetype": "text/x-python",
   "name": "python",
   "nbconvert_exporter": "python",
   "pygments_lexer": "ipython2",
   "version": "2.7.6"
  }
 },
 "nbformat": 4,
 "nbformat_minor": 5
}
